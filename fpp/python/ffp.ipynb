{
 "cells": [
  {
   "cell_type": "code",
   "execution_count": 33,
   "metadata": {},
   "outputs": [
    {
     "name": "stdout",
     "output_type": "stream",
     "text": [
      "55\n",
      "55\n",
      "55\n"
     ]
    }
   ],
   "source": [
    "def problem1_for(nums):\n",
    "    sum = 0\n",
    "    for n in nums:\n",
    "        sum += n\n",
    "    return sum\n",
    "\n",
    "def problem1_while(nums):\n",
    "    sum = 0\n",
    "    tmp = nums[:]\n",
    "    while len(tmp) > 0:\n",
    "        sum += tmp[0]\n",
    "        tmp = tmp[1:]\n",
    "    return sum\n",
    "\n",
    "def problem1_recursion(nums):\n",
    "    if len(nums) == 0:\n",
    "        return 0\n",
    "    return nums[0] + problem1_recursion(nums[1:])\n",
    "\n",
    "nums = [1,2,3,4,5,6,7,8,9,10]\n",
    "print(problem1_for(nums))\n",
    "print(problem1_while(nums))\n",
    "print(problem1_recursion(nums))"
   ]
  },
  {
   "cell_type": "code",
   "execution_count": 34,
   "metadata": {},
   "outputs": [
    {
     "name": "stdout",
     "output_type": "stream",
     "text": [
      "[1, 'a', 2, 'b', 3, 'c']\n"
     ]
    }
   ],
   "source": [
    "def problem2(a, b):\n",
    "    ret = []\n",
    "    for m , n in zip(a,b):\n",
    "        ret.append(m)\n",
    "        ret.append(n)\n",
    "    if len(a) > len(b):\n",
    "        ret.extend(a[len(b):])  \n",
    "    elif len(a) < len(b):\n",
    "        ret.extend(b[len(a):])  \n",
    "    return ret\n",
    "\n",
    "a = [1, 2, 3]\n",
    "b = ['a', 'b', 'c']\n",
    "print(problem2(a,b))"
   ]
  },
  {
   "cell_type": "code",
   "execution_count": 35,
   "metadata": {},
   "outputs": [
    {
     "name": "stdout",
     "output_type": "stream",
     "text": [
      "[0, 1, 1, 2, 3, 5, 8, 13, 21, 34, 55, 89, 144, 233, 377, 610, 987, 1597, 2584, 4181, 6765, 10946, 17711, 28657, 46368, 75025, 121393, 196418, 317811, 514229, 832040, 1346269, 2178309, 3524578, 5702887, 9227465, 14930352, 24157817, 39088169, 63245986, 102334155, 165580141, 267914296, 433494437, 701408733, 1134903170, 1836311903, 2971215073, 4807526976, 7778742049, 12586269025, 20365011074, 32951280099, 53316291173, 86267571272, 139583862445, 225851433717, 365435296162, 591286729879, 956722026041, 1548008755920, 2504730781961, 4052739537881, 6557470319842, 10610209857723, 17167680177565, 27777890035288, 44945570212853, 72723460248141, 117669030460994, 190392490709135, 308061521170129, 498454011879264, 806515533049393, 1304969544928657, 2111485077978050, 3416454622906707, 5527939700884757, 8944394323791464, 14472334024676221, 23416728348467685, 37889062373143906, 61305790721611591, 99194853094755497, 160500643816367088, 259695496911122585, 420196140727489673, 679891637638612258, 1100087778366101931, 1779979416004714189, 2880067194370816120, 4660046610375530309, 7540113804746346429, 12200160415121876738, 19740274219868223167, 31940434634990099905, 51680708854858323072, 83621143489848422977, 135301852344706746049, 218922995834555169026, 354224848179261915075]\n"
     ]
    }
   ],
   "source": [
    "def problem3():\n",
    "    fnums = [0, 1]\n",
    "    for i in range(99):\n",
    "        fnums.append(fnums[i] + fnums[i+1])\n",
    "    return fnums\n",
    "\n",
    "print(problem3())"
   ]
  },
  {
   "cell_type": "code",
   "execution_count": 36,
   "metadata": {},
   "outputs": [
    {
     "data": {
      "text/plain": [
       "95021"
      ]
     },
     "execution_count": 36,
     "metadata": {},
     "output_type": "execute_result"
    }
   ],
   "source": [
    "maxNum = 0\n",
    "\n",
    "def problem4_(left, right):\n",
    "    global maxNum\n",
    "    if len(right) == 0:\n",
    "        tmp = int(''.join(map(str, left)))\n",
    "        if tmp > maxNum:\n",
    "            maxNum = tmp\n",
    "    else:\n",
    "        for i in range(len(right)):\n",
    "            newLeft = left[:]\n",
    "            newRight = right[:]\n",
    "            newLeft.append(newRight.pop(i))\n",
    "            problem4_(newLeft, newRight)\n",
    "\n",
    "def problem4(nums):\n",
    "    global maxNum\n",
    "    left = []\n",
    "    right = nums[:]\n",
    "    maxNum = 0\n",
    "    problem4_(left, right)\n",
    "    return maxNum\n",
    "\n",
    "nums = [50, 2, 1, 9]\n",
    "problem4(nums)"
   ]
  },
  {
   "cell_type": "code",
   "execution_count": 42,
   "metadata": {},
   "outputs": [
    {
     "name": "stdout",
     "output_type": "stream",
     "text": [
      "123 +45 -67 +8 -9\n",
      "123 +4 -5 +67 -89\n",
      "123 -45 -67 +89\n",
      "123 -4 -5 -6 -7 +8 -9\n",
      "12 +3 +4 +5 -6 -7 +89\n",
      "12 +3 -4 +5 +67 +8 +9\n",
      "12 -3 -4 +5 -6 +7 +89\n",
      "1 +23 -4 +56 +7 +8 +9\n",
      "1 +23 -4 +5 +6 +78 -9\n",
      "1 +2 +34 -5 +67 -8 +9\n",
      "1 +2 +3 -4 +5 +6 +78 +9\n"
     ]
    }
   ],
   "source": [
    "NUMS = ['1', '2', '3', '4', '5', '6', '7', '8', '9']\n",
    "KIGO = ['', ' +', ' -']\n",
    "GOAL = 100\n",
    "\n",
    "def problem5(strs):\n",
    "    if len(strs) + 1 == len(NUMS):\n",
    "        str = ''\n",
    "        for n,s in zip(NUMS, strs):\n",
    "            str = str + n + s\n",
    "        str = str + NUMS[len(NUMS) - 1]\n",
    "        ret = 0\n",
    "        for v in str.split(' '):\n",
    "            ret += int(v)\n",
    "        if ret == GOAL:\n",
    "            print(str)\n",
    "    else:\n",
    "        for k in KIGO:\n",
    "            newStrs = strs[:]\n",
    "            newStrs.append(k)\n",
    "            problem5(newStrs)\n",
    "\n",
    "\n",
    "a = []\n",
    "problem5(a)"
   ]
  },
  {
   "cell_type": "code",
   "execution_count": 47,
   "metadata": {},
   "outputs": [
    {
     "name": "stdout",
     "output_type": "stream",
     "text": [
      "54321\n"
     ]
    }
   ],
   "source": [
    "import itertools\n",
    "\n",
    "def problem4_2(nums):\n",
    "    num_list = list(itertools.permutations(nums, len(nums)))\n",
    "    max = 0\n",
    "    for num in num_list:\n",
    "        tmp = int(''.join(map(str, num)))\n",
    "        if tmp > max:\n",
    "            max = tmp\n",
    "    return max\n",
    "\n",
    "nums = [50, 2, 1, 9]\n",
    "print(problem4_2(nums))"
   ]
  },
  {
   "cell_type": "code",
   "execution_count": null,
   "metadata": {},
   "outputs": [],
   "source": []
  }
 ],
 "metadata": {
  "interpreter": {
   "hash": "f9ab5e95db60dff5c4c05855d9ace6efbcea3bd3b1d0c26fcfc26f48b1d54aed"
  },
  "kernelspec": {
   "display_name": "Python 3.8.5 64-bit ('base': conda)",
   "name": "python3"
  },
  "language_info": {
   "codemirror_mode": {
    "name": "ipython",
    "version": 3
   },
   "file_extension": ".py",
   "mimetype": "text/x-python",
   "name": "python",
   "nbconvert_exporter": "python",
   "pygments_lexer": "ipython3",
   "version": "3.8.5"
  },
  "orig_nbformat": 4
 },
 "nbformat": 4,
 "nbformat_minor": 2
}
